{
 "cells": [
  {
   "cell_type": "code",
   "execution_count": 19,
   "id": "45fd7584",
   "metadata": {},
   "outputs": [],
   "source": [
    "import pandas as pd\n",
    "import duckdb as ddb"
   ]
  },
  {
   "cell_type": "code",
   "execution_count": 20,
   "id": "0aa19d71",
   "metadata": {},
   "outputs": [],
   "source": [
    "con = ddb.connect(\"data/ncm-research-data.duckdb\")"
   ]
  },
  {
   "cell_type": "markdown",
   "id": "fba50d81",
   "metadata": {},
   "source": [
    "## Observations Sampling"
   ]
  },
  {
   "cell_type": "markdown",
   "id": "ddbfff87",
   "metadata": {},
   "source": [
    "Choosing a appropriate standard that could distinguish active and inactive users is a challenge. Due to the limitation of sample period, It's not observable whether a user that first appeared near the end of sample period was still active after several weeks. For this reason, we only focused on the users that appeared in the first 7 days, so that we have observation window as long as possible.\n",
    "\n",
    "This guarantees that, we can trace all these users for at least 21 days. For this reason, our definition of being active is that a user had at least one impression two weeks after his first appearance. Although 14 days are usually not seen as \"long-term\" in the business context, it ensures that we do not wrongly categorizes users as \"inactive\" due to sample period limitation. Besides, it balances the proportion of active and inactive users.\n",
    "\n",
    "With this definition in mind, we then collect these observations and create labels for them."
   ]
  },
  {
   "cell_type": "code",
   "execution_count": null,
   "id": "7078e622",
   "metadata": {},
   "outputs": [],
   "source": [
    "con.sql(\n",
    "    \"\"\"\n",
    "CREATE OR REPLACE TABLE main.observation_label AS \n",
    "WITH first_act AS (\n",
    "SELECT\n",
    "\tuserId,\n",
    "\tMIN(dt) AS first_act_dt\n",
    "FROM main.impression i \n",
    "GROUP BY 1\n",
    "HAVING MIN(dt) <= 7\n",
    "),\n",
    "act_date AS (\n",
    "SELECT\n",
    "\tuserId,\n",
    "\tdt\n",
    "FROM main.impression i\n",
    "GROUP BY 1, 2\n",
    ")\n",
    "SELECT \n",
    "\tfa.userId,\n",
    "\tfa.first_act_dt,\n",
    "\tCASE\n",
    "\t\tWHEN COUNT(ad.dt) > 0 THEN 0\n",
    "\t\tELSE 1\n",
    "\tEND AS is_inactive\n",
    "FROM first_act fa\n",
    "LEFT JOIN act_date ad ON fa.userId = ad.userId\n",
    "\tAND ad.dt >= fa.first_act_dt + 14 \n",
    "GROUP BY 1, 2\n",
    "ORDER BY 1\n",
    "\"\"\"\n",
    ")"
   ]
  },
  {
   "cell_type": "code",
   "execution_count": null,
   "id": "f37543fc",
   "metadata": {},
   "outputs": [],
   "source": [
    "## Save 7 days impressions for these users\n",
    "con.sql(\n",
    "    \"\"\"\n",
    "CREATE OR REPLACE TABLE main.observation_impression AS\n",
    "SELECT \n",
    "\ti.userId,\n",
    "\tdt,\n",
    "\tEPOCH_MS(impressTime) AS impressTimeStamp,\n",
    "\timpressPosition,\n",
    "\tmlogId,\n",
    "\tisClick,\n",
    "\tisComment,\n",
    "\tisIntoPersonalHomepage,\n",
    "\tisShare,\n",
    "\tisViewComment,\n",
    "\tmlogViewTime,\n",
    "\tdetailMlogInfoList \n",
    "FROM main.observation_label ol LEFT JOIN main.impression i \n",
    "ON ol.userId = i.userId AND i.dt <= ol.first_act_dt + 7\n",
    "ORDER BY i.userId, impressTime, impressPosition \n",
    "\"\"\"\n",
    ")"
   ]
  },
  {
   "cell_type": "markdown",
   "id": "f2a346fb",
   "metadata": {},
   "source": [
    "## Feature Engineering"
   ]
  },
  {
   "cell_type": "markdown",
   "id": "74285fdf",
   "metadata": {},
   "source": [
    "### Static user demographics data"
   ]
  },
  {
   "cell_type": "markdown",
   "id": "f334d511",
   "metadata": {},
   "source": [
    "According to the user level EDA, we believe that several demographical fields could be included into the features for their ability to demonstrate individual differences between users (*age*, *gender*, *province*) and also dependence on the platform (*registeredMonthCnt*, *followCnt*). However, before they can be incorporated with behavioral data, there still exist issues to be solved. Among them, missing data is something that cannot be dismissed. Although all of the fields have missing data, *age* and *gender* are the most serious ones with missing values accounting for 35.2% in our observation users set."
   ]
  },
  {
   "cell_type": "code",
   "execution_count": null,
   "id": "12f28d50",
   "metadata": {},
   "outputs": [
    {
     "data": {
      "text/plain": [
       "userId                0.000000\n",
       "province              0.000070\n",
       "age                   0.352695\n",
       "gender                0.352695\n",
       "registeredMonthCnt    0.000070\n",
       "followCnt             0.000070\n",
       "level                 0.000070\n",
       "dtype: float64"
      ]
     },
     "execution_count": 14,
     "metadata": {},
     "output_type": "execute_result"
    }
   ],
   "source": [
    "con.sql(\n",
    "    \"\"\"\n",
    "WITH observations AS (\n",
    "    SELECT \n",
    "        userId,\n",
    "        MIN(dt) AS first_act_dt\n",
    "    FROM main.impression\n",
    "    GROUP BY 1\n",
    "    HAVING MIN(dt) <= 7\n",
    ")\n",
    "SELECT \n",
    "    o.userId,\n",
    "    province,\n",
    "    age,\n",
    "    gender,\n",
    "    registeredMonthCnt,\n",
    "    followCnt,\n",
    "    level\n",
    "FROM observations o \n",
    "LEFT JOIN main.user_demographics ud ON o.userId = ud.userId\n",
    "\"\"\"\n",
    ").to_df().isnull().mean()"
   ]
  },
  {
   "cell_type": "markdown",
   "id": "6f47b799",
   "metadata": {},
   "source": [
    "Since *gender* is a categorical field and the dataset already contains users whose *gender* is marked as \"unknown\". We decided to follow this practice and substitute null values with \"unknown\" as well. Regarding that *age* is a continuous numeric field, decision is made to fill null values with median and create a new binary field *is_age_missing* to convey this message in a different way.\n",
    "\n",
    "For other fields such as *registeredMonthCnt* and *followCnt*, we agreed to fill them with median for its relatively low percentage in missing values, and for *province* we use the value with highest frequency because it is a categorical field.\n",
    "\n",
    "After the data cleaning for observations' demographics data, we store them into a new table for later use."
   ]
  },
  {
   "cell_type": "code",
   "execution_count": null,
   "id": "589a1e49",
   "metadata": {},
   "outputs": [],
   "source": [
    "con.sql(\n",
    "    \"\"\"\n",
    "CREATE OR REPLACE TABLE main.observation_demographics AS \n",
    "WITH observations AS (\n",
    "\tSELECT\n",
    "\t\tuserId,\n",
    "\t\tMIN(dt) AS first_act_dt\n",
    "\tFROM\n",
    "\t\tmain.impression\n",
    "\tGROUP BY 1\n",
    "\tHAVING MIN(dt) <= 7\n",
    "),\n",
    "mode_province AS (\n",
    "\tSELECT \n",
    "\t\tprovince,\n",
    "\t\tCOUNT(*)\n",
    "\tFROM main.user_demographics\n",
    "\tGROUP BY 1\n",
    "\tORDER BY COUNT(*) DESC\n",
    "\tLIMIT 1\n",
    "),\n",
    "medians AS (\n",
    "\tSELECT\n",
    "    MEDIAN(age) AS median_age,\n",
    "    MEDIAN(registeredMonthCnt) AS median_registeredMonthCnt,\n",
    "    MEDIAN(followCnt) AS median_followCnt,\n",
    "    MEDIAN(level) AS median_level\n",
    "FROM main.user_demographics\n",
    ")\n",
    "SELECT\n",
    "\to.userId,\n",
    "\tCOALESCE(province, (SELECT province FROM mode_province)) AS province,\n",
    "\tCOALESCE(age, (SELECT median_age FROM medians)) AS age,\n",
    "\tCOALESCE(gender, 'unknown') AS gender,\n",
    "\tIF(age IS NULL, 1, 0) AS is_age_missing,\n",
    "\tCOALESCE(registeredMonthCnt, (SELECT median_registeredMonthCnt FROM medians)) AS registeredMonthCnt,\n",
    "\tCOALESCE(followCnt, (SELECT median_followCnt FROM medians)) AS followCnt,\n",
    "\tCOALESCE(level, (SELECT median_level FROM medians)) AS level\n",
    "FROM\n",
    "\tobservations o\n",
    "LEFT JOIN main.user_demographics ud ON o.userId = ud.userId\n",
    "ORDER BY o.userId\n",
    "\"\"\"\n",
    ")"
   ]
  },
  {
   "cell_type": "markdown",
   "id": "86ce3c54",
   "metadata": {},
   "source": [
    "### Behavioral data (extracted from impressions)"
   ]
  },
  {
   "cell_type": "markdown",
   "id": "b3e615aa",
   "metadata": {},
   "source": [
    "Traditional machine learning models relies heavily on well-defined empirically extracted features. To supply detailed user profile information to the fullest extent, we categorized features to be considered into 3 types:\n",
    "\n",
    "- **Aggregated**: A summary to the user's activity intensity during observation window, including mainly total number of each type of actions and several ratio metrics regardless of total active days.\n",
    "\n",
    "- **Per-day**: Daily averages of each type of actions and ratio metrics per day, used to preserve details about whether a user's usage is steady from day to day.\n",
    "\n",
    "- **Preference**: Used to reflect a user's preference about mlog and creators, some of them are linked to the external tables such as demographics of mlogs or users."
   ]
  },
  {
   "cell_type": "markdown",
   "id": "9bd2e905",
   "metadata": {},
   "source": [
    "#### Aggregated"
   ]
  },
  {
   "cell_type": "markdown",
   "id": "4a51b60f",
   "metadata": {},
   "source": [
    "In the following are features that belong to \"aggregated\":\n",
    "\n",
    "- *active days*: Total number of days that the user is active (has at least one impression) during the input time range.\n",
    "\n",
    "- *total_impressions*: Total number of impressions during the input time range\n",
    "\n",
    "- *total_clicks*: Total number of clicks during the input time range\n",
    "\n",
    "- *total_likes/total_shares/total_comments/total_into_personal_page/total_view_comments.*: Total number of respective actions\n",
    "\n",
    "- *total_mlog_watchtime*: Total time a user spent on watching mlogs (in minutes)\n",
    "\n",
    "- *ctr*: impression Click-Through Rate (*total_clicks* divided by *total_impressions*), representing the percentage of impressions that has triggered a click by a user\n",
    "\n",
    "- *interaction_rate*: refering to percentage of impressions that triggered at least one type of action besides clicks.\n",
    "\n",
    "- *like_rate/share_rate/comment_rate*: refering to the percentage of impressions that triggered at least respective type of feedback among **clicked** impressions."
   ]
  },
  {
   "cell_type": "markdown",
   "id": "9d0b5a37",
   "metadata": {},
   "source": [
    "#### Per-day"
   ]
  },
  {
   "cell_type": "markdown",
   "id": "b7815080",
   "metadata": {},
   "source": [
    "In the following are the features that belong to \"Per-day\":\n",
    "\n",
    "- *avg_daily_impressions*: Average daily impressions for a user\n",
    "\n",
    "- *avg_daily_clicks*: Avergae daily clicks for a user\n",
    "\n",
    "- *avg_daily_mlog_watchtime*: Average daily mlog watch time for a user (in minutes)\n",
    "\n",
    "- *avg_daily_likes/avg_daily_shares/avg_daily_shares*: Average daily amoung of three types of feedback for a user"
   ]
  },
  {
   "cell_type": "markdown",
   "id": "76b64837",
   "metadata": {},
   "source": [
    "#### Preference"
   ]
  },
  {
   "cell_type": "markdown",
   "id": "28727903",
   "metadata": {},
   "source": [
    "These are features categorized as \"Preference\":\n",
    "\n",
    "- *avg_impression_position*: Avg impression postion for a user during the input time range. Higher number indicates that a user has stronger intention to scroll down.\n",
    "\n",
    "- *favorite_hour*: Refers to the hour (1-24) that highest frequency for a user, reflecting a user's habit on using the application.\n",
    "\n",
    "- *favorite_format*: Refers to *type* in mlog_demographics with higher frequency among **clicked** impressions, reflecting a user's preference over music video or images with background music.\n",
    "\n",
    "- *favorite_creator_type*: Refers to *creatorType* in creator_demographics with highest frequency among impressions triggered **like/share/comment**, since we considered these three type of actions reflect a user's positive feedback to the creator.\n",
    "\n",
    "- *avg_user_likes_in_clicked/avg_user_shares_in_clicked/avg_user_comments_in_clicked*: Refers to average number of *userLikeCount/userShareCount/userCommentCount* in mlog_stats among **clicked** impressions. These features reflects a user's intention to click into content which is already liked/shared/commented by many users among the Cloud Village community.\n",
    "\n",
    "- *avg_creator_followers_in_feedbacks*: Refers to average number of *followeds* in creator_demographics among impressions triggered **like/share/comment**. This reflects a user's intention to interact with popular and well-known creators."
   ]
  },
  {
   "cell_type": "code",
   "execution_count": null,
   "id": "b9b3d362",
   "metadata": {},
   "outputs": [],
   "source": [
    "## （2025/10/10） Final SQL to be finished\n",
    "con.sql(\n",
    "    \"\"\"\"\"\"\n",
    ")"
   ]
  },
  {
   "cell_type": "code",
   "execution_count": null,
   "id": "5ff17233",
   "metadata": {},
   "outputs": [],
   "source": [
    "con.close()"
   ]
  }
 ],
 "metadata": {
  "kernelspec": {
   "display_name": "base",
   "language": "python",
   "name": "python3"
  },
  "language_info": {
   "codemirror_mode": {
    "name": "ipython",
    "version": 3
   },
   "file_extension": ".py",
   "mimetype": "text/x-python",
   "name": "python",
   "nbconvert_exporter": "python",
   "pygments_lexer": "ipython3",
   "version": "3.12.3"
  }
 },
 "nbformat": 4,
 "nbformat_minor": 5
}
